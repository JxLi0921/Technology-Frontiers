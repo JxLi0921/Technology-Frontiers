{
 "metadata": {
  "language_info": {
   "codemirror_mode": {
    "name": "ipython",
    "version": 3
   },
   "file_extension": ".py",
   "mimetype": "text/x-python",
   "name": "python",
   "nbconvert_exporter": "python",
   "pygments_lexer": "ipython3",
   "version": "3.8.5-final"
  },
  "orig_nbformat": 2,
  "kernelspec": {
   "name": "python3",
   "display_name": "Python 3",
   "language": "python"
  }
 },
 "nbformat": 4,
 "nbformat_minor": 2,
 "cells": [
  {
   "cell_type": "code",
   "execution_count": 1,
   "metadata": {},
   "outputs": [],
   "source": [
    "from elasticsearch import Elasticsearch\n",
    "import sqlite3\n",
    "import json"
   ]
  },
  {
   "source": [
    "## 1. Initialization"
   ],
   "cell_type": "markdown",
   "metadata": {}
  },
  {
   "cell_type": "code",
   "execution_count": 2,
   "metadata": {},
   "outputs": [],
   "source": [
    "es = Elasticsearch(hosts='localhost')"
   ]
  },
  {
   "cell_type": "code",
   "execution_count": 4,
   "metadata": {},
   "outputs": [
    {
     "output_type": "execute_result",
     "data": {
      "text/plain": [
       "{'acknowledged': True, 'shards_acknowledged': True, 'index': 'images'}"
      ]
     },
     "metadata": {},
     "execution_count": 4
    }
   ],
   "source": [
    "mappings = {\n",
    "    \"mappings\": {\n",
    "        \"properties\": {\n",
    "            \"id\": {\n",
    "                \"type\": \"integer\"\n",
    "            },\n",
    "            \"url\": {\n",
    "                \"type\": \"text\"\n",
    "            },\n",
    "            \"description\": {\n",
    "                \"type\": \"text\",\n",
    "                \"analyzer\": \"english\",\n",
    "                \"fielddata\": True\n",
    "            },\n",
    "            \"article_id\": {\n",
    "                \"type\": \"integer\"\n",
    "            },\n",
    "            \"title\": {\n",
    "                \"type\": \"text\",\n",
    "                \"analyzer\": \"english\",\n",
    "                \"fielddata\": True\n",
    "            },\n",
    "            \"author\": {\n",
    "                \"type\": \"text\",\n",
    "                \"analyzer\": \"english\",\n",
    "                \"fielddata\": True\n",
    "            },\n",
    "            \"date\": {\n",
    "                \"type\": \"text\",\n",
    "                \"fielddata\": True\n",
    "            }\n",
    "        }\n",
    "    }\n",
    "}\n",
    "es.indices.create(index='images', body=mappings)"
   ]
  },
  {
   "source": [
    "## 2. Load data"
   ],
   "cell_type": "markdown",
   "metadata": {}
  },
  {
   "cell_type": "code",
   "execution_count": 5,
   "metadata": {},
   "outputs": [],
   "source": [
    "db = sqlite3.connect('../data/MSN_technology.db')\n",
    "cursor = db.cursor()\n",
    "sql_text = 'SELECT * FROM IMAGES'\n",
    "info_all = list(cursor.execute(sql_text))"
   ]
  },
  {
   "cell_type": "code",
   "execution_count": 6,
   "metadata": {
    "tags": [
     "outputPrepend"
    ]
   },
   "outputs": [
    {
     "output_type": "stream",
     "name": "stdout",
     "text": [
      "5 a group of people standing next to a palm tree: Google installed an actual ride in its booth back in 2019. James Martin/CNET\n",
      "16036 a group of people sitting at a table: Nothing will top Google installing an actually ride in its booth back in 2019. \n",
      "16037 a group of people standing around a table: Google \"trapped\" its guests, requiring them to use Google Assistant to make their way out. James Martin/CNET\n",
      "16038 a group of people performing on a counter: Google went all out with its setup in 2019. James Martin/CNET\n",
      "16039 a group of people standing in a room: Google's 2018 booth was part fun house, part pitch for Assistant. Sarah Tew/CNET\n",
      "16040 a woman standing in front of a window: UK Coronavirus Mutation\n",
      "16041 diagram: These best-selling KN95 masks used to cost $45 at Amazon\n",
      "16042 a desk with a computer mouse on a table: MailOnline logo\n",
      "16043 a close up of a mouse: These wireless earbuds have proved to be a popular choice among Amazon shoppers, with reviewers praising the audio quality, easy connection and impressive battery life\n",
      "16044 diagram: The last Google Doodle of 2020 shows a cuckoo clock with hands approaching midnight.\n",
      "16045 a group of people standing in front of a crowd posing for the camera: From Elf to It's a Wonderful Life, read and share these memorable moments from the best Christmas films\n",
      "16046 a close up of a mouse: airpods-pro\n",
      "16047 You've got a rare opportunity to save on Purell hand sanitizer\n",
      "16048 a person standing in front of a building\n",
      "16049 a close up of a flower garden: Can you spot the tiny pink frogs hiding in the cherry blossom leaves? Lego\n",
      "16050 a bouquet of flowers: Build realistic-looking flowers with the new Lego Botanicals kit. Lego\n",
      "16051 a bouquet of flowers: Can you spot the tiny pink frogs hiding in the cherry blossom leaves?\n",
      "16052 a remote control sitting on top of a table: You can cancel certain app subscriptions on your iPhone through the Settings app. Hollis Johnson/Business Insider\n",
      "16053 graphical user interface, application: In the Settings app, tap your name and Apple ID at the top. Grace Eliza Goodwin/Business Insider\n",
      "16054 graphical user interface, application: Go to \"Subscriptions.\" Grace Eliza Goodwin/Business Insider\n",
      "16055 graphical user interface, text, application: Tap any active subscription to cancel it, or an expired on to renew it. Dave Johnson/Business Insider\n",
      "16056 graphical user interface, application: Select the expired subscription you want to reactivate. Grace Eliza Goodwin/Business Insider\n",
      "16057 Select a subscription option from the list. Grace Eliza Goodwin/Business Insider\n",
      "16058 a large ship in a body of water: The Zhen Hua 35 is now anchored in San Francisco Bay. Kent German/CNET\n",
      "16059 a long bridge over a body of water: The Zhen Hua 35 is now anchored in San Francisco Bay.\n",
      "16060 a long bridge over a body of water: Squeezing under the Bay Bridge Port of Oakland\n",
      "16061 a leather chair sitting in front of a window\n",
      "16062 a hand holding a piece of grass:  If your Apple Watch dies too quickly, you can improve its battery life by shortening its \"wake screen\" time, un-pairing and re-pairing your Watch, and other simple adjustments. You can also save battery life by turning off workout mode, disabling \"Background App Refresh,\" and turning on the \"Reduce Motion\" feature. Your Apple Watch should last up to 18 hours before it requires charging, but if that's not the case, here's seven ways to extend its battery. Visit Business Insider's Tech Reference library for more stories. Compared to other smartwatches, the Apple Watch does not have a particularly robust battery life.An Apple Watch lasts for just 18 hours, which means you need to charge it daily. Most people charge it overnight, which is why it doesn't have a built-in sleep tracking app like many other smartwatches and fitness bands. Why your Apple Watch battery dies so fast, and how to fix itIf your watch isn't lasting all the way through the day, it's likely that you are using the watch's battery a lot more aggressively than the average user. But there are several things you can do to extend the battery life.Here are the seven best ways to improve your Apple Watch battery and get more out of a single charge.Read the original article on Business Insider\n",
      "16063 a man wearing a costume: Use your weakness to your advantage.\n",
      "16064 a man wearing a costume: Popular Science\n",
      "16065 a screen shot of a computer monitor\n",
      "16066 Jamie Chung holding a camera: You can't watch Netflix on a Nintendo Switch, but you can watch shows and movies with other supported apps. Michael Kovac/Getty Images for Nintendo\n",
      "16067 While you can't watch Netflix on a Nintendo Switch, you can watch Hulu or YouTube. Steven John/Business Insider\n",
      "16068 a close up of a screen of a cell phone: You can watch Netflix on the Wii U gaming device. Netflix/YouTube\n",
      "16069 Razer Wolverine V2 Wired Gaming Controller\n",
      "16070 graphical user interface, application, Teams\n",
      "16071 graphical user interface, application\n",
      "16072 graphical user interface, application\n",
      "16073 graphical user interface, application\n",
      "16074 a man standing in front of a building\n",
      "16075 graphical user interface: That big green button is the only thing you can click that will actually get you the game.\n",
      "16076 a group of people sitting in front of a building\n",
      "16077 a person posing for the camera\n",
      "16078 a woman wearing sunglasses posing for the camera\n",
      "16079 text: Amazon includes a music service with its Prime membership program, and it offers a Spotify-like unlimted version of it for another price. Andrew Hoyle/CNET\n",
      "16080 text: Amazon includes a music service with its Prime membership program, and it offers a Spotify-like unlimted version of it for another price. \n",
      "16081 Elon Musk with his mouth open: Elon Musk, the founder, CEO, and chief designer of SpaceX. Susan Walsh/AP Photo\n",
      "16082 An animation of SpaceX's Starlink satellite constellation providing internet coverage to the Americas. SpaceX\n",
      "16083 a close up of a person talking on a cell phone: Fear not, there are a few options that won't break the bank for replacing a broken iPhone with a used or refurbished model.\n",
      "16084 Tim Cook wearing a suit and tie: Tim Cook, chief executive officer of Apple Inc., speaks during a keynote at the 2019 DreamForce conference in San Francisco, California, U.S., on Tuesday, Nov. 19, 2019. Salesforce.com Inc.s annual software conference, where it introduces new products and discusses its commitment to social causes, was interrupted for the second year in a row by protests against the companys work with the U.S. government. Photographer: David Paul Morris/Bloomberg via Getty Images\n",
      "16085 Selena Gomez posing for the camera: Selena Gomez/Instagram\n",
      "16086 graphical user interface, application\n",
      "16087 a hand holding a remote control\n",
      "16088 diagram, engineering drawing: Apple has been granted a patent for a 'reconfigurable' keyboard, with each key having a digital readout showing you its current function. The technology could be used to quickly turn English letters into another alphabet — Cyrillic or Hebrew, for example\n",
      "16089 graphical user interface: According to the filing, the proposed technology could also temporarily convert a standard keyboard into a gaming keyboard, 'in which keys correspond to particular in-game actions'\n",
      "16090 a group of people sitting at a desk: MailOnline logo\n",
      "16091 a person sitting at a desk: Robert 'Buz' Chmielewski was involved in surfing accident as a teen, but in 2019 he underwent a 10-hour surgery to have six electrodes implanted into his brain to control a pair of robotic arms and just showed the ability to feed himself\n",
      "16092 a person sitting at a desk with a computer on a table: With this system, Chmielewski was able to manipulate the two arms to perform different tasks\n",
      "16093 a man sitting at a desk with a computer in an office: This included holding the cake on the plate with a form while the other arm cut the dessert with a knife. And then the other arm allowed Chmielewski to feed himself the treat\n",
      "16094 a man smiling for the camera: Each array is a two and a half inch square and has small spikes underneath. Three electrodes connect to Chmeilweki's left and right arms and the others are connected to brain areas that relay sensory feedback from the prosthetic fingers\n",
      "16095 graphical user interface, application, website: Vybe Together\n",
      "16096 fireworks in the night sky: Exploding light sparks fright in our brains—but we love it.\n",
      "16097 fireworks in the night sky: Colorful fireworks of various colors over night sky\n",
      "16098 a group of people standing around a table: Even as COVID testing has ramped up, the US pandemic effort has been inadequate at almost every level.\n",
      "16099 a group of people standing around a table: Even as COVID testing has ramped up, the US pandemic effort has been inadequate at almost every level.\n",
      "16100 a close up of electronics: Whether you travel frequently, work during your commute, or don’t want to log on to unfamiliar Wi-Fi networks, a mobile hotspot can be a game changer.\n",
      "16101 a close up of electronics: Verizon Wireless Jetpack 8800L \n",
      "16102 a close up of electronics: Netgear Nighthawk MR1100 \n",
      "16103 a close up of electronics: TP-LINK M7350\n",
      "16104 a close up of a device: GL.iNET GL-MT300N-V2 \n",
      "16105 graphical user interface, text, application\n",
      "16106 a group of people posing for a photo\n",
      "16107 a group of people sitting at a beach\n",
      "16108 a screenshot of a cell phone\n",
      "16109 graphical user interface, website\n",
      "16110 graphical user interface, application\n",
      "16111 Elon Musk wearing a suit and tie: SpaceX CEO Elon Musk. REUTERS/Steve Nesius\n",
      "16112 a person lying on the floor\n",
      "16113 a blackboard sign on a wall\n",
      "16114 a screen shot of a video game\n",
      "16115 a person in a military uniform: MailOnline logo\n",
      "16116 a man wearing a uniform and holding a gun: Autonomous flying 'bug drones' that can spy on enemies more than a mile away and operate in strong winds of up to 50mph are being tested by the British Army\n",
      "16117 Developed by the British defence firms BAE Systems and UAVTEK, 'The Bug' is a fist-sized robot (pictured) weighing just 6.7 ounces (191g) — roughly the same as a smart phone\n",
      "16118 diagram: 'In even the toughest weather, the Bug can deliver vital tactical intelligence on what’s around the corner or over the next hill, working autonomously to give troops a visual update,' said BAE Systems' Principal Technologist, James Gerard\n",
      "16119 calendar: Star Wars: Squadrons \n",
      "16120 a body of water with a mountain in the background: Real VR Fishing \n",
      "16121 diagram: Void Racer: Extreme \n",
      "16122 a group of stuffed animals sitting next to a bird: Dreams\n",
      "16123 background pattern: Beat Saber\n",
      "16124 a close up of a basketball game: VR Shoot Around \n",
      "16125 Trover Saves the Universe \n",
      "16126 a screenshot of a video game: Pixel Ripped 1995 \n",
      "16127 a satellite in space: The Air Force is building a spacecraft that will beam solar power to Earth. This is some real sci-fi stuff.\n",
      "16128 Zach Woods wearing a suit and tie: You love solar. So do we. Let\n",
      "16129 diagram, schematic: Arachne is comprised of Helios and the Space Solar Power Radio Frequency Integrated Transmission Experiment (SSPRITE), whose components (in purple) conduct Arachneâ€™s power beaming mission, while Helios (orange) is the bus that hosts and provides resources to SSPRITE.\n",
      "16130 An artist's illustration of the evolution of the interstellar object 'Oumuamua, whose weird, elongated shape may have come from tidal forces.\n",
      "16131 Samsung may get rid of its Note lineup as it expands its foldables in 2021. Angela Lang/CNET\n",
      "16132 a man wearing a suit and tie\n",
      "16133 a man wearing a suit and tie: HS Kim, the head of Samsung's electronics business, shows off the Ballie robot at CES 2020. James Martin/CNET\n",
      "16134 a person sitting at a table using a laptop: This year, with our eyes constantly glued to the screens, we sought escape in sound.\n",
      "16135 a person standing in front of a building: best video doorbell 2020 camera\n",
      "16136 a room filled with furniture and a tv: MailOnline logo\n",
      "16137 a living room filled with furniture and a large window: A voice-controlled smart fridge (pictured) that opens on command — so that you don't have to touch the handle and risk spreading viruses and other germs — has been revealed by LG\n",
      "16138 a train on a track with smoke coming out of it: A SpaceX Falcon 9 rocket and Crew Dragon spacecraft lifts off during SpaceX Demo-2 mission to the International Space Station from Kennedy Space Center in Cape Canaveral, Fla., May 30, 2020.\n",
      "16139 a group of people standing in the snow: NASA astronauts Bob Behnken (R) and Doug Hurley (L) walk out on their way to the SpaceX Falcon 9 rocket with the Crew Dragon spacecraft at the Kennedy Space Center in Cape Canaveral, Fla., May 27, 2020.\n",
      "16140 The upgraded SpaceX Cargo Dragon vehicle approaches the International Space Station as both vehicles were orbiting above the Pacific Ocean off the coast of Mexico, Dec. 7, 2020.\n",
      "16141 a train on a track with smoke coming out of it: A SpaceX Falcon 9 rocket and Crew Dragon spacecraft lifts off during SpaceX Demo-2 mission to the International Space Station from Kennedy Space Center in Cape Canaveral, Fla., May 30, 2020.\n",
      "16142 a group of people looking at a kite: Vice President Mike Pence and President Donald Trump watch as the SpaceX Falcon 9 rocket carrying the SpaceX Crew Dragon capsule, with astronauts Bob Behnken and Doug Hurley, lifts off from Kennedy Space Center in Florida on May 30, 2020.\n",
      "16143 Soichi Noguchi et al. in a car posing for the camera: In this Aug. 14, 2020, file photo, the crew of SpaceX's Crew 1 mission smile during equipment interface training. The crew will launch to the International Space Station from Kennedy Space Center’s Launch Complex 39A in Florida.\n",
      "16144 a small boat in a body of water:  On December 21, a Chilean research base in Antarctica reported the first cases of coronavirus on the remote continent. For months, Antarctica remained untouched by the virus, and researchers' lives had been as normal as pre-pandemic conditions. That life, which is met with freezing weather and dark winters, is no easy feat. Here's a look at what life is like in the research stations in Antarctica. Visit Insider's homepage for more stories. For months, one of the few places in the world without a single reported case of the coronavirus was the expansive, remote continent of Antarctica.That changed on Monday, when a Chilean research base reported 36 cases of COVID-19, local paper El Mercurio reported. The 26 Army personnel and 10 civilian contractors who tested positive for the virus are in good condition and have been evacuated to Chile, according to The Guardian. Antarctica is the only continent with no native human population, and many of its inhabitants are researchers on the hunt for new organisms, data that could reveal Earth's climate history, and signs of a changing environment.For nearly 200 years, scientists have been exploring the nearly 5.5-million-square-mile continent. In 1959, the US and 11 other countries signed the Antarctic Treaty to ban military activity and promote scientific investigations. Currently, there are 70 research bases on the continent, and that number has grown over the decades. Thousands of biologists, ecologists, and geologists conduct research in the coldest, driest, and most remote continent on Earth. Take a look at some of these researchers' daily lives and the challenges these scientists face.Read the original article on Insider\n",
      "16145 a man standing on a snow board: Researchers work next to Chang'e-5 lunar return capsule carrying moon samples, after it landed in northern China's Inner Mongolia Autonomous Region, Dec. 17, 2020.\n",
      "16146 a close up of a tree: In this image taken from video on Oct. 20, 2020, and released by NASA, regolith is dispersed as the Osiris-Rex spacecraft takes a sample of the surface of asteroid Bennu.\n",
      "16147 a close up of a desert field with a mountain in the background: An illustration of NASA’s Perseverance rover landing safely on Mars. The rover is schecduled to land on Feb. 18, 2021.\n",
      "16148 a group of people riding on the back of a truck: Thirteen-year-old Alex Mather speaks to the media in front of a mock-up of the Perseverance rover at Cape Canaveral Air Force Station in Florida on July 28, 2020.\n",
      "16149 a screen shot of a computer: Best 4K monitors 2020\n",
      "16150 a woman sitting at a table with a laptop on a bed: best student laptop 2020\n",
      "16151 a shower curtain: BrosTrend AC1200 Wi-Fi Booster Range Extender\n",
      "16152 Elon Musk standing in front of a crowd: SpaceX founder Elon Musk celebrates after the historic first launch of astronauts aboard a SpaceX craft in May.\n",
      "16153 Patrick G. Forrester et al. that are standing in the snow: Astronauts Doug Hurley, left, and Bob Behnken on their way to their May flight to the International Space Station. SpaceX is expected to launch NASA astronauts to space twice in 2021.\n",
      "16154 The Boeing factory at Kennedy Space Center.\n",
      "16155 a sign on the side of a building: A \"Stay Home\" sign in London the day after Christmas. Dinendra Haria/Getty Images\n",
      "16156 a sign on the side of a building: A \"Stay Home\" sign in London the day after Christmas.\n",
      "16157 a man and a woman standing in front of a boat: Amazon CEO Jeff Bezos and his mother, Jacklyn Bezos, stand behind a model of Blue Origin’s recovery ship with a scale-model rocket on its deck — and the actual ship in the background. (Jeff Bezos via Instagram)\n",
      "16158 a group of people standing in front of a crowd\n",
      "16159 The mod vs an N64 controller\n",
      "16160 a circuit board: In order to fit it into such a small form factor, the N64’s motherboard had to have all non-essential parts cut off.\n",
      "16161 a close up of a person holding a bag\n",
      "16162 80-Year-Old Buys 80th Porsche\n",
      "16163 Alcatel Go Flip 3 - Best Flip Phones\n",
      "16164 Samsung Galaxy Z Flip - Best Flip Phones\n",
      "16165 a close up of a camera: Kyocera DuraXE Rugged Flip Phone\n",
      "16166 a screen shot of a video game remote control: Alcatel MyFlip 4G - Best Flip Phones\n",
      "16167 a person using a laptop computer sitting on top of a table: Are you using an authenticator app for your accounts? It's a good move.\n",
      "16168 a person using a laptop computer sitting on top of a table: Are you using an authenticator app for your accounts? It's a good move.\n",
      "16169 a hand holding a laptop: Google Assistant\n",
      "16170 Best-selling respirators are on sale for just $2.12 each thanks to this Amazon coupon\n",
      "16171 a bedroom with a large bed sitting in a room\n",
      "16172 text: The first of many choices in “Escape: A Game”.\n",
      "16173 chart: Call of Duty (COD) and Fortnite video game updates accounted for peaks in broadband usage during the year, as did live rugby on Amazon Prime Video in November and video calls at Christmas. The chart includes the accumulative total of data usage for each day, in five-hour intervals. Boxing Day was named the busiest day of the year for broadband – when a record 210PB was consumed across Openreach's networks\n",
      "16174 a crowd of people watching a football game: Reasons thought to be driving the big jump in broadband usage include more live sports being screened online by the likes of Amazon Prime Video\n",
      "16175 a screen shot of a person: Disney +  launched in the UK on Tuesday, March 24, which may have been responsible for an increase in internet usage in homes in the county\n",
      "16176 a group of people flying kites in front of a house: A Wing Aviation LLC drone delivers a package at a customer's home in Christiansburg, Virginia, U.S., on Friday, Oct. 18, 2019. The offshoot of Alphabet Inc.'s Google, in partnership with Walgreens Boots Alliance Inc., became the first drone operator sanctioned by the U.S. Federal Aviation Administration and the Department of Transportation to deliver packages to customers. Photographer Logan Cyrus/Bloomberg via Getty Images\n",
      "16177 Tim Cook wearing a suit and tie: Karl Mondon/Digital First Media/The Mercury News via Getty Images\n",
      "16178 a group of palm trees with a sunset in the background: call of the sea\n",
      "16179 a group of people posing for the camera: gears 5 hivebusters scorpio squad\n",
      "16180 shape, arrow: carto on xbox\n"
     ]
    }
   ],
   "source": [
    "for (_id, url, description, article_id, title, author, date) in info_all:\n",
    "    print(_id, description)\n",
    "\n",
    "    es.index(index='images', body=json.dumps({\n",
    "        'id': _id,\n",
    "        'url': url,\n",
    "        'description': description,\n",
    "        'article_id': article_id,\n",
    "        'title': title,\n",
    "        'author': author,\n",
    "        'date': date\n",
    "    }))"
   ]
  },
  {
   "source": [
    "## 3. Cleanups"
   ],
   "cell_type": "markdown",
   "metadata": {}
  },
  {
   "cell_type": "code",
   "execution_count": 7,
   "metadata": {},
   "outputs": [],
   "source": [
    "db.close()\n",
    "es.close()"
   ]
  }
 ]
}