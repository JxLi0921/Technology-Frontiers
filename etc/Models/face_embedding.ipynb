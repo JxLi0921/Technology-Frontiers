{
 "metadata": {
  "language_info": {
   "codemirror_mode": {
    "name": "ipython",
    "version": 3
   },
   "file_extension": ".py",
   "mimetype": "text/x-python",
   "name": "python",
   "nbconvert_exporter": "python",
   "pygments_lexer": "ipython3",
   "version": "3.8.5-final"
  },
  "orig_nbformat": 2,
  "kernelspec": {
   "name": "python3",
   "display_name": "Python 3",
   "language": "python"
  }
 },
 "nbformat": 4,
 "nbformat_minor": 2,
 "cells": [
  {
   "cell_type": "code",
   "execution_count": 1,
   "metadata": {},
   "outputs": [],
   "source": [
    "import sqlite3\n",
    "from facenet_pytorch import MTCNN, InceptionResnetV1\n",
    "from PIL import Image\n",
    "import numpy as np"
   ]
  },
  {
   "source": [
    "## 1. Load data"
   ],
   "cell_type": "markdown",
   "metadata": {}
  },
  {
   "cell_type": "code",
   "execution_count": 2,
   "metadata": {},
   "outputs": [],
   "source": [
    "db = sqlite3.connect('../../data/MSN_technology.db')\n",
    "cursor = db.cursor()\n",
    "sql_text = 'SELECT * FROM IMAGES'\n",
    "info_all = cursor.execute('SELECT * FROM IMAGES')"
   ]
  },
  {
   "source": [
    "## 2. Generate models"
   ],
   "cell_type": "markdown",
   "metadata": {}
  },
  {
   "cell_type": "code",
   "execution_count": 3,
   "metadata": {},
   "outputs": [],
   "source": [
    "model = InceptionResnetV1(pretrained='vggface2').eval()\n",
    "mtcnn = MTCNN()"
   ]
  },
  {
   "cell_type": "code",
   "execution_count": 4,
   "metadata": {},
   "outputs": [],
   "source": [
    "embeddings = []\n",
    "embeddings_image = []\n",
    "\n",
    "for (_id, _, _, _, _, _, _) in info_all:\n",
    "\ttry:\n",
    "\t\timage = Image.open('../images/{}.jpg'.format(_id))\n",
    "\t\timage_cropped = mtcnn(image)\n",
    "\t\timage_embedding = model(image_cropped.unsqueeze(0)).detach().numpy().reshape((512))\n",
    "\t\tembeddings.append(image_embedding)\n",
    "\t\tembeddings_image.append(_id)\n",
    "\texcept:\n",
    "\t\tpass\n",
    "\n",
    "embeddings = np.array(embeddings)\n",
    "embeddings_image = np.array(embeddings_image)"
   ]
  },
  {
   "source": [
    "## 3. Save models"
   ],
   "cell_type": "markdown",
   "metadata": {}
  },
  {
   "cell_type": "code",
   "execution_count": 5,
   "metadata": {},
   "outputs": [],
   "source": [
    "np.save('../../models/embeddings.npy', embeddings)\n",
    "np.save('../../models/embeddings_image.npy', embeddings_image)"
   ]
  }
 ]
}