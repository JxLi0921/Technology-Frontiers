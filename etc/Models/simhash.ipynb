{
 "metadata": {
  "language_info": {
   "codemirror_mode": {
    "name": "ipython",
    "version": 3
   },
   "file_extension": ".py",
   "mimetype": "text/x-python",
   "name": "python",
   "nbconvert_exporter": "python",
   "pygments_lexer": "ipython3",
   "version": "3.8.5-final"
  },
  "orig_nbformat": 2,
  "kernelspec": {
   "name": "python3",
   "display_name": "Python 3",
   "language": "python"
  }
 },
 "nbformat": 4,
 "nbformat_minor": 2,
 "cells": [
  {
   "cell_type": "code",
   "execution_count": 1,
   "metadata": {},
   "outputs": [],
   "source": [
    "import sqlite3\n",
    "import nltk\n",
    "from simhash import Simhash\n",
    "import numpy as np"
   ]
  },
  {
   "cell_type": "code",
   "execution_count": 15,
   "metadata": {},
   "outputs": [],
   "source": [
    "db = sqlite3.connect('../../data/MSN_technology.db')\n",
    "cursor = db.cursor()\n",
    "info_all = cursor.execute(\"SELECT * FROM MSN_TECH\")\n",
    "articles = [info[5] for info in info_all]"
   ]
  },
  {
   "cell_type": "code",
   "execution_count": 3,
   "metadata": {},
   "outputs": [],
   "source": [
    "def preprocess_data(articles):\n",
    "    stopwords = set(nltk.corpus.stopwords.words('english'))\n",
    "    all_tokens = []\n",
    "    for i, article in enumerate(articles):\n",
    "        tokens = ' '.join([token for token in nltk.word_tokenize(article) \\\n",
    "                    if token not in stopwords])\n",
    "        all_tokens.append(tokens)\n",
    "    return all_tokens"
   ]
  },
  {
   "cell_type": "code",
   "execution_count": 4,
   "metadata": {},
   "outputs": [],
   "source": [
    "tokens = preprocess_data(articles)"
   ]
  },
  {
   "cell_type": "code",
   "execution_count": 5,
   "metadata": {},
   "outputs": [],
   "source": [
    "codes = []\n",
    "for i in range(len(tokens)):\n",
    "    codes.append(Simhash(tokens[i]))"
   ]
  },
  {
   "cell_type": "code",
   "execution_count": 6,
   "metadata": {},
   "outputs": [],
   "source": [
    "s = []\n",
    "for i in range(len(tokens)):\n",
    "    s.append([])\n",
    "for i in range(len(tokens) - 1):\n",
    "    code1 = codes[i]\n",
    "    for j in range(i + 1, len(tokens)):\n",
    "        code2 = codes[j]\n",
    "        dist = code1.distance(code2)\n",
    "        if dist < 16:\n",
    "            s[i].append(j)\n",
    "            s[j].append(i)"
   ]
  },
  {
   "cell_type": "code",
   "execution_count": 7,
   "metadata": {},
   "outputs": [],
   "source": [
    "best8 = np.zeros((len(s), 8), dtype=np.int32)\n",
    "best8 -= 1\n",
    "for i in range(len(s)):\n",
    "    g = sorted([(codes[i].distance(codes[k]), k) for k in s[i]])\n",
    "    for j in range(min(8, len(g))):\n",
    "        best8[i][j] = g[j][1]\n",
    "\n",
    "np.save('related.npy', best8)"
   ]
  },
  {
   "cell_type": "code",
   "execution_count": 14,
   "metadata": {},
   "outputs": [
    {
     "output_type": "stream",
     "name": "stdout",
     "text": [
      "[547, 7027, 6362, 3023, -1, -1, -1, -1]\n"
     ]
    }
   ],
   "source": [
    "print(list(best8[7359]))"
   ]
  },
  {
   "cell_type": "code",
   "execution_count": 17,
   "metadata": {},
   "outputs": [],
   "source": [
    "for i in range(7360):\n",
    "    cursor.execute('UPDATE MSN_TECH SET related = ? WHERE _id = ?', (str(list(best8[i])), i))"
   ]
  },
  {
   "cell_type": "code",
   "execution_count": 18,
   "metadata": {},
   "outputs": [],
   "source": [
    "db.commit()"
   ]
  },
  {
   "cell_type": "code",
   "execution_count": 19,
   "metadata": {},
   "outputs": [],
   "source": [
    "db.close()"
   ]
  },
  {
   "cell_type": "code",
   "execution_count": 20,
   "metadata": {},
   "outputs": [
    {
     "output_type": "execute_result",
     "data": {
      "text/plain": [
       "array([-1, -1, -1, -1, -1, -1, -1, -1])"
      ]
     },
     "metadata": {},
     "execution_count": 20
    }
   ],
   "source": [
    "best8[7140]"
   ]
  },
  {
   "cell_type": "code",
   "execution_count": null,
   "metadata": {},
   "outputs": [],
   "source": []
  }
 ]
}